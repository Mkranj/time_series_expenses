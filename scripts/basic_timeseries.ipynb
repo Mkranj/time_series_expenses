{
 "cells": [
  {
   "cell_type": "markdown",
   "metadata": {},
   "source": [
    "# Basic time series exploration"
   ]
  },
  {
   "cell_type": "code",
   "execution_count": 2,
   "metadata": {},
   "outputs": [],
   "source": [
    "from time_series_expenses.prepare_data import monthly"
   ]
  },
  {
   "cell_type": "markdown",
   "metadata": {},
   "source": [
    "## Creating a Prophet model"
   ]
  },
  {
   "cell_type": "code",
   "execution_count": 3,
   "metadata": {},
   "outputs": [
    {
     "data": {
      "text/html": [
       "<div>\n",
       "<style scoped>\n",
       "    .dataframe tbody tr th:only-of-type {\n",
       "        vertical-align: middle;\n",
       "    }\n",
       "\n",
       "    .dataframe tbody tr th {\n",
       "        vertical-align: top;\n",
       "    }\n",
       "\n",
       "    .dataframe thead th {\n",
       "        text-align: right;\n",
       "    }\n",
       "</style>\n",
       "<table border=\"1\" class=\"dataframe\">\n",
       "  <thead>\n",
       "    <tr style=\"text-align: right;\">\n",
       "      <th></th>\n",
       "      <th>y</th>\n",
       "      <th>ds</th>\n",
       "    </tr>\n",
       "    <tr>\n",
       "      <th>Date</th>\n",
       "      <th></th>\n",
       "      <th></th>\n",
       "    </tr>\n",
       "  </thead>\n",
       "  <tbody>\n",
       "    <tr>\n",
       "      <th>2021-10-01</th>\n",
       "      <td>659.76</td>\n",
       "      <td>2021-10-01</td>\n",
       "    </tr>\n",
       "    <tr>\n",
       "      <th>2021-11-01</th>\n",
       "      <td>840.82</td>\n",
       "      <td>2021-11-01</td>\n",
       "    </tr>\n",
       "    <tr>\n",
       "      <th>2021-12-01</th>\n",
       "      <td>378.26</td>\n",
       "      <td>2021-12-01</td>\n",
       "    </tr>\n",
       "    <tr>\n",
       "      <th>2022-01-01</th>\n",
       "      <td>825.94</td>\n",
       "      <td>2022-01-01</td>\n",
       "    </tr>\n",
       "    <tr>\n",
       "      <th>2022-02-01</th>\n",
       "      <td>551.60</td>\n",
       "      <td>2022-02-01</td>\n",
       "    </tr>\n",
       "  </tbody>\n",
       "</table>\n",
       "</div>"
      ],
      "text/plain": [
       "                 y         ds\n",
       "Date                         \n",
       "2021-10-01  659.76 2021-10-01\n",
       "2021-11-01  840.82 2021-11-01\n",
       "2021-12-01  378.26 2021-12-01\n",
       "2022-01-01  825.94 2022-01-01\n",
       "2022-02-01  551.60 2022-02-01"
      ]
     },
     "execution_count": 3,
     "metadata": {},
     "output_type": "execute_result"
    }
   ],
   "source": [
    "monthly.head()"
   ]
  },
  {
   "cell_type": "code",
   "execution_count": 4,
   "metadata": {},
   "outputs": [
    {
     "name": "stderr",
     "output_type": "stream",
     "text": [
      "12:30:47 - cmdstanpy - INFO - Chain [1] start processing\n",
      "12:30:47 - cmdstanpy - INFO - Chain [1] done processing\n"
     ]
    },
    {
     "data": {
      "text/plain": [
       "<prophet.forecaster.Prophet at 0x162d8ed65d0>"
      ]
     },
     "execution_count": 4,
     "metadata": {},
     "output_type": "execute_result"
    }
   ],
   "source": [
    "from prophet import Prophet\n",
    "model = Prophet()\n",
    "\n",
    "model.fit(monthly)"
   ]
  },
  {
   "cell_type": "code",
   "execution_count": 5,
   "metadata": {},
   "outputs": [
    {
     "data": {
      "text/html": [
       "<div>\n",
       "<style scoped>\n",
       "    .dataframe tbody tr th:only-of-type {\n",
       "        vertical-align: middle;\n",
       "    }\n",
       "\n",
       "    .dataframe tbody tr th {\n",
       "        vertical-align: top;\n",
       "    }\n",
       "\n",
       "    .dataframe thead th {\n",
       "        text-align: right;\n",
       "    }\n",
       "</style>\n",
       "<table border=\"1\" class=\"dataframe\">\n",
       "  <thead>\n",
       "    <tr style=\"text-align: right;\">\n",
       "      <th></th>\n",
       "      <th>ds</th>\n",
       "      <th>yhat</th>\n",
       "      <th>yhat_lower</th>\n",
       "      <th>yhat_upper</th>\n",
       "    </tr>\n",
       "  </thead>\n",
       "  <tbody>\n",
       "    <tr>\n",
       "      <th>29</th>\n",
       "      <td>2024-03-01</td>\n",
       "      <td>952.140845</td>\n",
       "      <td>718.571763</td>\n",
       "      <td>1184.149406</td>\n",
       "    </tr>\n",
       "    <tr>\n",
       "      <th>30</th>\n",
       "      <td>2024-04-01</td>\n",
       "      <td>1028.470628</td>\n",
       "      <td>802.534264</td>\n",
       "      <td>1265.148421</td>\n",
       "    </tr>\n",
       "    <tr>\n",
       "      <th>31</th>\n",
       "      <td>2024-05-01</td>\n",
       "      <td>1599.482397</td>\n",
       "      <td>1355.860285</td>\n",
       "      <td>1832.645373</td>\n",
       "    </tr>\n",
       "    <tr>\n",
       "      <th>32</th>\n",
       "      <td>2024-06-01</td>\n",
       "      <td>147.252904</td>\n",
       "      <td>-97.488430</td>\n",
       "      <td>378.279862</td>\n",
       "    </tr>\n",
       "    <tr>\n",
       "      <th>33</th>\n",
       "      <td>2024-07-01</td>\n",
       "      <td>1856.977252</td>\n",
       "      <td>1623.321569</td>\n",
       "      <td>2094.359462</td>\n",
       "    </tr>\n",
       "    <tr>\n",
       "      <th>34</th>\n",
       "      <td>2024-08-01</td>\n",
       "      <td>2533.920093</td>\n",
       "      <td>2300.307025</td>\n",
       "      <td>2784.564466</td>\n",
       "    </tr>\n",
       "    <tr>\n",
       "      <th>35</th>\n",
       "      <td>2024-09-01</td>\n",
       "      <td>1278.637344</td>\n",
       "      <td>1032.529813</td>\n",
       "      <td>1521.660022</td>\n",
       "    </tr>\n",
       "    <tr>\n",
       "      <th>36</th>\n",
       "      <td>2024-10-01</td>\n",
       "      <td>1686.821793</td>\n",
       "      <td>1456.405456</td>\n",
       "      <td>1918.044335</td>\n",
       "    </tr>\n",
       "    <tr>\n",
       "      <th>37</th>\n",
       "      <td>2024-11-01</td>\n",
       "      <td>906.759824</td>\n",
       "      <td>660.144675</td>\n",
       "      <td>1147.122920</td>\n",
       "    </tr>\n",
       "    <tr>\n",
       "      <th>38</th>\n",
       "      <td>2024-12-01</td>\n",
       "      <td>1415.911314</td>\n",
       "      <td>1176.500669</td>\n",
       "      <td>1652.949851</td>\n",
       "    </tr>\n",
       "    <tr>\n",
       "      <th>39</th>\n",
       "      <td>2025-01-01</td>\n",
       "      <td>1616.137533</td>\n",
       "      <td>1368.771702</td>\n",
       "      <td>1857.677447</td>\n",
       "    </tr>\n",
       "    <tr>\n",
       "      <th>40</th>\n",
       "      <td>2025-02-01</td>\n",
       "      <td>1634.170860</td>\n",
       "      <td>1384.444728</td>\n",
       "      <td>1869.296565</td>\n",
       "    </tr>\n",
       "    <tr>\n",
       "      <th>41</th>\n",
       "      <td>2025-03-01</td>\n",
       "      <td>1224.210556</td>\n",
       "      <td>979.292518</td>\n",
       "      <td>1453.293267</td>\n",
       "    </tr>\n",
       "  </tbody>\n",
       "</table>\n",
       "</div>"
      ],
      "text/plain": [
       "           ds         yhat   yhat_lower   yhat_upper\n",
       "29 2024-03-01   952.140845   718.571763  1184.149406\n",
       "30 2024-04-01  1028.470628   802.534264  1265.148421\n",
       "31 2024-05-01  1599.482397  1355.860285  1832.645373\n",
       "32 2024-06-01   147.252904   -97.488430   378.279862\n",
       "33 2024-07-01  1856.977252  1623.321569  2094.359462\n",
       "34 2024-08-01  2533.920093  2300.307025  2784.564466\n",
       "35 2024-09-01  1278.637344  1032.529813  1521.660022\n",
       "36 2024-10-01  1686.821793  1456.405456  1918.044335\n",
       "37 2024-11-01   906.759824   660.144675  1147.122920\n",
       "38 2024-12-01  1415.911314  1176.500669  1652.949851\n",
       "39 2025-01-01  1616.137533  1368.771702  1857.677447\n",
       "40 2025-02-01  1634.170860  1384.444728  1869.296565\n",
       "41 2025-03-01  1224.210556   979.292518  1453.293267"
      ]
     },
     "execution_count": 5,
     "metadata": {},
     "output_type": "execute_result"
    }
   ],
   "source": [
    "# Predict next year\n",
    "future = model.make_future_dataframe(periods = 12, freq = \"MS\")\n",
    "forecast = model.predict(future)[[\"ds\", \"yhat\", \"yhat_lower\", \"yhat_upper\"]]\n",
    "\n",
    "forecast.tail(13)"
   ]
  },
  {
   "cell_type": "code",
   "execution_count": 6,
   "metadata": {},
   "outputs": [
    {
     "name": "stderr",
     "output_type": "stream",
     "text": [
      "c:\\Projekti_programiranje\\Python\\Python projects\\ML_in_Python\\time_series_expenses\\.venv\\Lib\\site-packages\\prophet\\plot.py:72: FutureWarning: The behavior of DatetimeProperties.to_pydatetime is deprecated, in a future version this will return a Series containing python datetime objects instead of an ndarray. To retain the old behavior, call `np.array` on the result\n",
      "  fcst_t = fcst['ds'].dt.to_pydatetime()\n",
      "c:\\Projekti_programiranje\\Python\\Python projects\\ML_in_Python\\time_series_expenses\\.venv\\Lib\\site-packages\\prophet\\plot.py:73: FutureWarning: The behavior of DatetimeProperties.to_pydatetime is deprecated, in a future version this will return a Series containing python datetime objects instead of an ndarray. To retain the old behavior, call `np.array` on the result\n",
      "  ax.plot(m.history['ds'].dt.to_pydatetime(), m.history['y'], 'k.',\n"
     ]
    },
    {
     "data": {
      "image/png": "[encoded data removed]",
      "text/plain": [
       "<Figure size 1000x600 with 1 Axes>"
      ]
     },
     "metadata": {},
     "output_type": "display_data"
    }
   ],
   "source": [
    "# Automatic plotting of a given dataframe\n",
    "figure1 = model.plot(forecast)"
   ]
  },
  {
   "cell_type": "markdown",
   "metadata": {},
   "source": [
    "## Metrics"
   ]
  },
  {
   "cell_type": "code",
   "execution_count": 7,
   "metadata": {},
   "outputs": [],
   "source": [
    "from time_series_expenses.forecast_metrics import create_metrics_df\n",
    "original_metrics = create_metrics_df(monthly, forecast)"
   ]
  },
  {
   "cell_type": "code",
   "execution_count": 8,
   "metadata": {},
   "outputs": [
    {
     "name": "stdout",
     "output_type": "stream",
     "text": [
      "0.8312310851033843\n",
      "35071.712239610824\n",
      "MAE: 120.55250166282562\n"
     ]
    }
   ],
   "source": [
    "from sklearn.metrics import mean_squared_error, r2_score, mean_absolute_error\n",
    "\n",
    "print(r2_score(original_metrics.y, original_metrics.yhat))\n",
    "print(mean_squared_error(original_metrics.y, original_metrics.yhat))\n",
    "print(f\"MAE: {mean_absolute_error(original_metrics.y, original_metrics.yhat)}\")\n"
   ]
  },
  {
   "cell_type": "code",
   "execution_count": 9,
   "metadata": {},
   "outputs": [
    {
     "data": {
      "application/vnd.plotly.v1+json": {
       "config": {
        "plotlyServerURL": "https://plot.ly"
       },
       "data": [
        {
         "marker": {
          "color": "black",
          "size": 4
         },
         "mode": "markers",
         "name": "Actual",
         "type": "scatter",
         "x": [
          "2021-10-01T00:00:00",
          "2021-11-01T00:00:00",
          "2021-12-01T00:00:00",
          "2022-01-01T00:00:00",
          "2022-02-01T00:00:00",
          "2022-03-01T00:00:00",
          "2022-04-01T00:00:00",
          "2022-05-01T00:00:00",
          "2022-06-01T00:00:00",
          "2022-07-01T00:00:00",
          "2022-08-01T00:00:00",
          "2022-09-01T00:00:00",
          "2022-10-01T00:00:00",
          "2022-11-01T00:00:00",
          "2022-12-01T00:00:00",
          "2023-01-01T00:00:00",
          "2023-02-01T00:00:00",
          "2023-03-01T00:00:00",
          "2023-04-01T00:00:00",
          "2023-05-01T00:00:00",
          "2023-06-01T00:00:00",
          "2023-07-01T00:00:00",
          "2023-08-01T00:00:00",
          "2023-09-01T00:00:00",
          "2023-10-01T00:00:00",
          "2023-11-01T00:00:00",
          "2023-12-01T00:00:00",
          "2024-01-01T00:00:00",
          "2024-02-01T00:00:00",
          "2024-03-01T00:00:00"
         ],
         "y": [
          659.76,
          840.8199999999999,
          378.26,
          825.9399999999999,
          551.6,
          374.27,
          571.23,
          607.7199999999999,
          341.75,
          1604.08,
          903.01,
          681.54,
          539.24,
          632.01,
          1265.78,
          685.31,
          951.44,
          585.24,
          896,
          724.44,
          1108.14,
          2142.7000000000003,
          748.9,
          1052.4,
          842.6,
          2373,
          937.8,
          1235.74,
          789.5,
          952.7
         ]
        },
        {
         "hoverinfo": "skip",
         "line": {
          "width": 0
         },
         "mode": "lines",
         "type": "scatter",
         "x": [
          "2021-10-01T00:00:00",
          "2021-11-01T00:00:00",
          "2021-12-01T00:00:00",
          "2022-01-01T00:00:00",
          "2022-02-01T00:00:00",
          "2022-03-01T00:00:00",
          "2022-04-01T00:00:00",
          "2022-05-01T00:00:00",
          "2022-06-01T00:00:00",
          "2022-07-01T00:00:00",
          "2022-08-01T00:00:00",
          "2022-09-01T00:00:00",
          "2022-10-01T00:00:00",
          "2022-11-01T00:00:00",
          "2022-12-01T00:00:00",
          "2023-01-01T00:00:00",
          "2023-02-01T00:00:00",
          "2023-03-01T00:00:00",
          "2023-04-01T00:00:00",
          "2023-05-01T00:00:00",
          "2023-06-01T00:00:00",
          "2023-07-01T00:00:00",
          "2023-08-01T00:00:00",
          "2023-09-01T00:00:00",
          "2023-10-01T00:00:00",
          "2023-11-01T00:00:00",
          "2023-12-01T00:00:00",
          "2024-01-01T00:00:00",
          "2024-02-01T00:00:00",
          "2024-03-01T00:00:00",
          "2024-04-01T00:00:00",
          "2024-05-01T00:00:00",
          "2024-06-01T00:00:00",
          "2024-07-01T00:00:00",
          "2024-08-01T00:00:00",
          "2024-09-01T00:00:00",
          "2024-10-01T00:00:00",
          "2024-11-01T00:00:00",
          "2024-12-01T00:00:00",
          "2025-01-01T00:00:00",
          "2025-02-01T00:00:00",
          "2025-03-01T00:00:00"
         ],
         "y": [
          352.5388882656952,
          266.89489496189213,
          320.38308745739033,
          463.9222396265429,
          395.38109334779443,
          98.28966033094531,
          315.73650872158464,
          386.4243313256455,
          142.73773081550846,
          1433.5433647796087,
          688.1112475889663,
          468.14396182695873,
          437.73313979771734,
          1030.0784207467145,
          610.6133903556072,
          667.8020645001536,
          518.6232897065232,
          373.76559890551397,
          659.758535674296,
          476.7780388225789,
          837.3699588262751,
          1854.2505456979306,
          483.52762076528785,
          776.5779078794683,
          512.0117673975102,
          1826.7980531959709,
          905.9060337471789,
          894.1027895495083,
          651.8527711738334,
          718.5717625648274,
          802.5342637325076,
          1355.8602853126947,
          -97.4884297670394,
          1623.3215688348982,
          2300.3070252691236,
          1032.5298128267825,
          1456.4054563575016,
          660.1446745705666,
          1176.5006693453147,
          1368.7717020390162,
          1384.4447279174428,
          979.2925183094909
         ]
        },
        {
         "fill": "tonexty",
         "fillcolor": "rgba(0, 114, 178, 0.2)",
         "line": {
          "color": "#0072B2",
          "width": 2
         },
         "mode": "lines",
         "name": "Predicted",
         "type": "scatter",
         "x": [
          "2021-10-01T00:00:00",
          "2021-11-01T00:00:00",
          "2021-12-01T00:00:00",
          "2022-01-01T00:00:00",
          "2022-02-01T00:00:00",
          "2022-03-01T00:00:00",
          "2022-04-01T00:00:00",
          "2022-05-01T00:00:00",
          "2022-06-01T00:00:00",
          "2022-07-01T00:00:00",
          "2022-08-01T00:00:00",
          "2022-09-01T00:00:00",
          "2022-10-01T00:00:00",
          "2022-11-01T00:00:00",
          "2022-12-01T00:00:00",
          "2023-01-01T00:00:00",
          "2023-02-01T00:00:00",
          "2023-03-01T00:00:00",
          "2023-04-01T00:00:00",
          "2023-05-01T00:00:00",
          "2023-06-01T00:00:00",
          "2023-07-01T00:00:00",
          "2023-08-01T00:00:00",
          "2023-09-01T00:00:00",
          "2023-10-01T00:00:00",
          "2023-11-01T00:00:00",
          "2023-12-01T00:00:00",
          "2024-01-01T00:00:00",
          "2024-02-01T00:00:00",
          "2024-03-01T00:00:00",
          "2024-04-01T00:00:00",
          "2024-05-01T00:00:00",
          "2024-06-01T00:00:00",
          "2024-07-01T00:00:00",
          "2024-08-01T00:00:00",
          "2024-09-01T00:00:00",
          "2024-10-01T00:00:00",
          "2024-11-01T00:00:00",
          "2024-12-01T00:00:00",
          "2025-01-01T00:00:00",
          "2025-02-01T00:00:00",
          "2025-03-01T00:00:00"
         ],
         "y": [
          598.4269415328409,
          512.4275297222752,
          564.1750016653514,
          690.0519359084308,
          620.6054894998365,
          341.02728941952444,
          560.6641931586369,
          617.7691039897772,
          375.7546737803524,
          1646.3992043972332,
          938.7231166075974,
          714.5703838904035,
          677.418217015942,
          1280.6075633633516,
          863.1824326734426,
          917.2495252948013,
          764.4070420202847,
          619.2981218164891,
          906.7711897391036,
          714.5552333148394,
          1074.2416926339013,
          2100.372198261655,
          713.1636441907953,
          1019.2856328521018,
          765.5997258019347,
          2052.467512104742,
          1154.4946313333294,
          1139.5185734434313,
          907.4712498767805,
          952.1408453467445,
          1028.4706283379608,
          1599.4823972016952,
          147.25290393946057,
          1856.9772524107366,
          2533.920093198749,
          1278.6373436947085,
          1686.8217928295978,
          906.7598238735783,
          1415.9113135867976,
          1616.1375325636698,
          1634.170860372033,
          1224.2105559802983
         ]
        },
        {
         "fill": "tonexty",
         "fillcolor": "rgba(0, 114, 178, 0.2)",
         "hoverinfo": "skip",
         "line": {
          "width": 0
         },
         "mode": "lines",
         "type": "scatter",
         "x": [
          "2021-10-01T00:00:00",
          "2021-11-01T00:00:00",
          "2021-12-01T00:00:00",
          "2022-01-01T00:00:00",
          "2022-02-01T00:00:00",
          "2022-03-01T00:00:00",
          "2022-04-01T00:00:00",
          "2022-05-01T00:00:00",
          "2022-06-01T00:00:00",
          "2022-07-01T00:00:00",
          "2022-08-01T00:00:00",
          "2022-09-01T00:00:00",
          "2022-10-01T00:00:00",
          "2022-11-01T00:00:00",
          "2022-12-01T00:00:00",
          "2023-01-01T00:00:00",
          "2023-02-01T00:00:00",
          "2023-03-01T00:00:00",
          "2023-04-01T00:00:00",
          "2023-05-01T00:00:00",
          "2023-06-01T00:00:00",
          "2023-07-01T00:00:00",
          "2023-08-01T00:00:00",
          "2023-09-01T00:00:00",
          "2023-10-01T00:00:00",
          "2023-11-01T00:00:00",
          "2023-12-01T00:00:00",
          "2024-01-01T00:00:00",
          "2024-02-01T00:00:00",
          "2024-03-01T00:00:00",
          "2024-04-01T00:00:00",
          "2024-05-01T00:00:00",
          "2024-06-01T00:00:00",
          "2024-07-01T00:00:00",
          "2024-08-01T00:00:00",
          "2024-09-01T00:00:00",
          "2024-10-01T00:00:00",
          "2024-11-01T00:00:00",
          "2024-12-01T00:00:00",
          "2025-01-01T00:00:00",
          "2025-02-01T00:00:00",
          "2025-03-01T00:00:00"
         ],
         "y": [
          839.3911564174537,
          744.9978566468299,
          808.7331147239663,
          917.0801439276951,
          870.1645431955023,
          587.7483776411398,
          815.0828366406288,
          852.7093330934053,
          618.54670684855,
          1894.9840593337042,
          1182.3450696104826,
          944.3299439204644,
          906.2241662369272,
          1508.4922433617378,
          1093.04152881966,
          1160.3921046642574,
          985.9840183439317,
          858.5248057283095,
          1135.1267306150614,
          954.4322890188332,
          1303.81689015351,
          2319.861752998354,
          948.7398392457648,
          1249.7974976787484,
          1012.53395916855,
          2298.813887930083,
          1388.2880085162642,
          1384.232150536413,
          1132.1958307540956,
          1184.1494055241005,
          1265.1484209759506,
          1832.645372793181,
          378.2798621075347,
          2094.3594615663765,
          2784.5644664128536,
          1521.660021594692,
          1918.044334800144,
          1147.1229197458977,
          1652.9498514815168,
          1857.67744679109,
          1869.296565253555,
          1453.2932669456773
         ]
        }
       ],
       "layout": {
        "height": 600,
        "showlegend": false,
        "template": {
         "data": {
          "bar": [
           {
            "error_x": {
             "color": "#2a3f5f"
            },
            "error_y": {
             "color": "#2a3f5f"
            },
            "marker": {
             "line": {
              "color": "#E5ECF6",
              "width": 0.5
             },
             "pattern": {
              "fillmode": "overlay",
              "size": 10,
              "solidity": 0.2
             }
            },
            "type": "bar"
           }
          ],
          "barpolar": [
           {
            "marker": {
             "line": {
              "color": "#E5ECF6",
              "width": 0.5
             },
             "pattern": {
              "fillmode": "overlay",
              "size": 10,
              "solidity": 0.2
             }
            },
            "type": "barpolar"
           }
          ],
          "carpet": [
           {
            "aaxis": {
             "endlinecolor": "#2a3f5f",
             "gridcolor": "white",
             "linecolor": "white",
             "minorgridcolor": "white",
             "startlinecolor": "#2a3f5f"
            },
            "baxis": {
             "endlinecolor": "#2a3f5f",
             "gridcolor": "white",
             "linecolor": "white",
             "minorgridcolor": "white",
             "startlinecolor": "#2a3f5f"
            },
            "type": "carpet"
           }
          ],
          "choropleth": [
           {
            "colorbar": {
             "outlinewidth": 0,
             "ticks": ""
            },
            "type": "choropleth"
           }
          ],
          "contour": [
           {
            "colorbar": {
             "outlinewidth": 0,
             "ticks": ""
            },
            "colorscale": [
             [
              0,
              "#0d0887"
             ],
             [
              0.1111111111111111,
              "#46039f"
             ],
             [
              0.2222222222222222,
              "#7201a8"
             ],
             [
              0.3333333333333333,
              "#9c179e"
             ],
             [
              0.4444444444444444,
              "#bd3786"
             ],
             [
              0.5555555555555556,
              "#d8576b"
             ],
             [
              0.6666666666666666,
              "#ed7953"
             ],
             [
              0.7777777777777778,
              "#fb9f3a"
             ],
             [
              0.8888888888888888,
              "#fdca26"
             ],
             [
              1,
              "#f0f921"
             ]
            ],
            "type": "contour"
           }
          ],
          "contourcarpet": [
           {
            "colorbar": {
             "outlinewidth": 0,
             "ticks": ""
            },
            "type": "contourcarpet"
           }
          ],
          "heatmap": [
           {
            "colorbar": {
             "outlinewidth": 0,
             "ticks": ""
            },
            "colorscale": [
             [
              0,
              "#0d0887"
             ],
             [
              0.1111111111111111,
              "#46039f"
             ],
             [
              0.2222222222222222,
              "#7201a8"
             ],
             [
              0.3333333333333333,
              "#9c179e"
             ],
             [
              0.4444444444444444,
              "#bd3786"
             ],
             [
              0.5555555555555556,
              "#d8576b"
             ],
             [
              0.6666666666666666,
              "#ed7953"
             ],
             [
              0.7777777777777778,
              "#fb9f3a"
             ],
             [
              0.8888888888888888,
              "#fdca26"
             ],
             [
              1,
              "#f0f921"
             ]
            ],
            "type": "heatmap"
           }
          ],
          "heatmapgl": [
           {
            "colorbar": {
             "outlinewidth": 0,
             "ticks": ""
            },
            "colorscale": [
             [
              0,
              "#0d0887"
             ],
             [
              0.1111111111111111,
              "#46039f"
             ],
             [
              0.2222222222222222,
              "#7201a8"
             ],
             [
              0.3333333333333333,
              "#9c179e"
             ],
             [
              0.4444444444444444,
              "#bd3786"
             ],
             [
              0.5555555555555556,
              "#d8576b"
             ],
             [
              0.6666666666666666,
              "#ed7953"
             ],
             [
              0.7777777777777778,
              "#fb9f3a"
             ],
             [
              0.8888888888888888,
              "#fdca26"
             ],
             [
              1,
              "#f0f921"
             ]
            ],
            "type": "heatmapgl"
           }
          ],
          "histogram": [
           {
            "marker": {
             "pattern": {
              "fillmode": "overlay",
              "size": 10,
              "solidity": 0.2
             }
            },
            "type": "histogram"
           }
          ],
          "histogram2d": [
           {
            "colorbar": {
             "outlinewidth": 0,
             "ticks": ""
            },
            "colorscale": [
             [
              0,
              "#0d0887"
             ],
             [
              0.1111111111111111,
              "#46039f"
             ],
             [
              0.2222222222222222,
              "#7201a8"
             ],
             [
              0.3333333333333333,
              "#9c179e"
             ],
             [
              0.4444444444444444,
              "#bd3786"
             ],
             [
              0.5555555555555556,
              "#d8576b"
             ],
             [
              0.6666666666666666,
              "#ed7953"
             ],
             [
              0.7777777777777778,
              "#fb9f3a"
             ],
             [
              0.8888888888888888,
              "#fdca26"
             ],
             [
              1,
              "#f0f921"
             ]
            ],
            "type": "histogram2d"
           }
          ],
          "histogram2dcontour": [
           {
            "colorbar": {
             "outlinewidth": 0,
             "ticks": ""
            },
            "colorscale": [
             [
              0,
              "#0d0887"
             ],
             [
              0.1111111111111111,
              "#46039f"
             ],
             [
              0.2222222222222222,
              "#7201a8"
             ],
             [
              0.3333333333333333,
              "#9c179e"
             ],
             [
              0.4444444444444444,
              "#bd3786"
             ],
             [
              0.5555555555555556,
              "#d8576b"
             ],
             [
              0.6666666666666666,
              "#ed7953"
             ],
             [
              0.7777777777777778,
              "#fb9f3a"
             ],
             [
              0.8888888888888888,
              "#fdca26"
             ],
             [
              1,
              "#f0f921"
             ]
            ],
            "type": "histogram2dcontour"
           }
          ],
          "mesh3d": [
           {
            "colorbar": {
             "outlinewidth": 0,
             "ticks": ""
            },
            "type": "mesh3d"
           }
          ],
          "parcoords": [
           {
            "line": {
             "colorbar": {
              "outlinewidth": 0,
              "ticks": ""
             }
            },
            "type": "parcoords"
           }
          ],
          "pie": [
           {
            "automargin": true,
            "type": "pie"
           }
          ],
          "scatter": [
           {
            "fillpattern": {
             "fillmode": "overlay",
             "size": 10,
             "solidity": 0.2
            },
            "type": "scatter"
           }
          ],
          "scatter3d": [
           {
            "line": {
             "colorbar": {
              "outlinewidth": 0,
              "ticks": ""
             }
            },
            "marker": {
             "colorbar": {
              "outlinewidth": 0,
              "ticks": ""
             }
            },
            "type": "scatter3d"
           }
          ],
          "scattercarpet": [
           {
            "marker": {
             "colorbar": {
              "outlinewidth": 0,
              "ticks": ""
             }
            },
            "type": "scattercarpet"
           }
          ],
          "scattergeo": [
           {
            "marker": {
             "colorbar": {
              "outlinewidth": 0,
              "ticks": ""
             }
            },
            "type": "scattergeo"
           }
          ],
          "scattergl": [
           {
            "marker": {
             "colorbar": {
              "outlinewidth": 0,
              "ticks": ""
             }
            },
            "type": "scattergl"
           }
          ],
          "scattermapbox": [
           {
            "marker": {
             "colorbar": {
              "outlinewidth": 0,
              "ticks": ""
             }
            },
            "type": "scattermapbox"
           }
          ],
          "scatterpolar": [
           {
            "marker": {
             "colorbar": {
              "outlinewidth": 0,
              "ticks": ""
             }
            },
            "type": "scatterpolar"
           }
          ],
          "scatterpolargl": [
           {
            "marker": {
             "colorbar": {
              "outlinewidth": 0,
              "ticks": ""
             }
            },
            "type": "scatterpolargl"
           }
          ],
          "scatterternary": [
           {
            "marker": {
             "colorbar": {
              "outlinewidth": 0,
              "ticks": ""
             }
            },
            "type": "scatterternary"
           }
          ],
          "surface": [
           {
            "colorbar": {
             "outlinewidth": 0,
             "ticks": ""
            },
            "colorscale": [
             [
              0,
              "#0d0887"
             ],
             [
              0.1111111111111111,
              "#46039f"
             ],
             [
              0.2222222222222222,
              "#7201a8"
             ],
             [
              0.3333333333333333,
              "#9c179e"
             ],
             [
              0.4444444444444444,
              "#bd3786"
             ],
             [
              0.5555555555555556,
              "#d8576b"
             ],
             [
              0.6666666666666666,
              "#ed7953"
             ],
             [
              0.7777777777777778,
              "#fb9f3a"
             ],
             [
              0.8888888888888888,
              "#fdca26"
             ],
             [
              1,
              "#f0f921"
             ]
            ],
            "type": "surface"
           }
          ],
          "table": [
           {
            "cells": {
             "fill": {
              "color": "#EBF0F8"
             },
             "line": {
              "color": "white"
             }
            },
            "header": {
             "fill": {
              "color": "#C8D4E3"
             },
             "line": {
              "color": "white"
             }
            },
            "type": "table"
           }
          ]
         },
         "layout": {
          "annotationdefaults": {
           "arrowcolor": "#2a3f5f",
           "arrowhead": 0,
           "arrowwidth": 1
          },
          "autotypenumbers": "strict",
          "coloraxis": {
           "colorbar": {
            "outlinewidth": 0,
            "ticks": ""
           }
          },
          "colorscale": {
           "diverging": [
            [
             0,
             "#8e0152"
            ],
            [
             0.1,
             "#c51b7d"
            ],
            [
             0.2,
             "#de77ae"
            ],
            [
             0.3,
             "#f1b6da"
            ],
            [
             0.4,
             "#fde0ef"
            ],
            [
             0.5,
             "#f7f7f7"
            ],
            [
             0.6,
             "#e6f5d0"
            ],
            [
             0.7,
             "#b8e186"
            ],
            [
             0.8,
             "#7fbc41"
            ],
            [
             0.9,
             "#4d9221"
            ],
            [
             1,
             "#276419"
            ]
           ],
           "sequential": [
            [
             0,
             "#0d0887"
            ],
            [
             0.1111111111111111,
             "#46039f"
            ],
            [
             0.2222222222222222,
             "#7201a8"
            ],
            [
             0.3333333333333333,
             "#9c179e"
            ],
            [
             0.4444444444444444,
             "#bd3786"
            ],
            [
             0.5555555555555556,
             "#d8576b"
            ],
            [
             0.6666666666666666,
             "#ed7953"
            ],
            [
             0.7777777777777778,
             "#fb9f3a"
            ],
            [
             0.8888888888888888,
             "#fdca26"
            ],
            [
             1,
             "#f0f921"
            ]
           ],
           "sequentialminus": [
            [
             0,
             "#0d0887"
            ],
            [
             0.1111111111111111,
             "#46039f"
            ],
            [
             0.2222222222222222,
             "#7201a8"
            ],
            [
             0.3333333333333333,
             "#9c179e"
            ],
            [
             0.4444444444444444,
             "#bd3786"
            ],
            [
             0.5555555555555556,
             "#d8576b"
            ],
            [
             0.6666666666666666,
             "#ed7953"
            ],
            [
             0.7777777777777778,
             "#fb9f3a"
            ],
            [
             0.8888888888888888,
             "#fdca26"
            ],
            [
             1,
             "#f0f921"
            ]
           ]
          },
          "colorway": [
           "#636efa",
           "#EF553B",
           "#00cc96",
           "#ab63fa",
           "#FFA15A",
           "#19d3f3",
           "#FF6692",
           "#B6E880",
           "#FF97FF",
           "#FECB52"
          ],
          "font": {
           "color": "#2a3f5f"
          },
          "geo": {
           "bgcolor": "white",
           "lakecolor": "white",
           "landcolor": "#E5ECF6",
           "showlakes": true,
           "showland": true,
           "subunitcolor": "white"
          },
          "hoverlabel": {
           "align": "left"
          },
          "hovermode": "closest",
          "mapbox": {
           "style": "light"
          },
          "paper_bgcolor": "white",
          "plot_bgcolor": "#E5ECF6",
          "polar": {
           "angularaxis": {
            "gridcolor": "white",
            "linecolor": "white",
            "ticks": ""
           },
           "bgcolor": "#E5ECF6",
           "radialaxis": {
            "gridcolor": "white",
            "linecolor": "white",
            "ticks": ""
           }
          },
          "scene": {
           "xaxis": {
            "backgroundcolor": "#E5ECF6",
            "gridcolor": "white",
            "gridwidth": 2,
            "linecolor": "white",
            "showbackground": true,
            "ticks": "",
            "zerolinecolor": "white"
           },
           "yaxis": {
            "backgroundcolor": "#E5ECF6",
            "gridcolor": "white",
            "gridwidth": 2,
            "linecolor": "white",
            "showbackground": true,
            "ticks": "",
            "zerolinecolor": "white"
           },
           "zaxis": {
            "backgroundcolor": "#E5ECF6",
            "gridcolor": "white",
            "gridwidth": 2,
            "linecolor": "white",
            "showbackground": true,
            "ticks": "",
            "zerolinecolor": "white"
           }
          },
          "shapedefaults": {
           "line": {
            "color": "#2a3f5f"
           }
          },
          "ternary": {
           "aaxis": {
            "gridcolor": "white",
            "linecolor": "white",
            "ticks": ""
           },
           "baxis": {
            "gridcolor": "white",
            "linecolor": "white",
            "ticks": ""
           },
           "bgcolor": "#E5ECF6",
           "caxis": {
            "gridcolor": "white",
            "linecolor": "white",
            "ticks": ""
           }
          },
          "title": {
           "x": 0.05
          },
          "xaxis": {
           "automargin": true,
           "gridcolor": "white",
           "linecolor": "white",
           "ticks": "",
           "title": {
            "standoff": 15
           },
           "zerolinecolor": "white",
           "zerolinewidth": 2
          },
          "yaxis": {
           "automargin": true,
           "gridcolor": "white",
           "linecolor": "white",
           "ticks": "",
           "title": {
            "standoff": 15
           },
           "zerolinecolor": "white",
           "zerolinewidth": 2
          }
         }
        },
        "width": 900,
        "xaxis": {
         "rangeselector": {
          "buttons": [
           {
            "count": 7,
            "label": "1w",
            "step": "day",
            "stepmode": "backward"
           },
           {
            "count": 1,
            "label": "1m",
            "step": "month",
            "stepmode": "backward"
           },
           {
            "count": 6,
            "label": "6m",
            "step": "month",
            "stepmode": "backward"
           },
           {
            "count": 1,
            "label": "1y",
            "step": "year",
            "stepmode": "backward"
           },
           {
            "step": "all"
           }
          ]
         },
         "rangeslider": {
          "visible": true
         },
         "title": {
          "text": "ds"
         },
         "type": "date"
        },
        "yaxis": {
         "title": {
          "text": "y"
         }
        }
       }
      }
     },
     "metadata": {},
     "output_type": "display_data"
    }
   ],
   "source": [
    "# Interactive plot\n",
    "# For monthly data, 1month and 1week, components in general not available\n",
    "from prophet.plot import plot_plotly, plot_components_plotly\n",
    "plot_plotly(model, forecast)"
   ]
  },
  {
   "cell_type": "markdown",
   "metadata": {},
   "source": [
    "Saturating forecasts - minimums and maximums"
   ]
  },
  {
   "cell_type": "code",
   "execution_count": 10,
   "metadata": {},
   "outputs": [
    {
     "data": {
      "text/html": [
       "<div>\n",
       "<style scoped>\n",
       "    .dataframe tbody tr th:only-of-type {\n",
       "        vertical-align: middle;\n",
       "    }\n",
       "\n",
       "    .dataframe tbody tr th {\n",
       "        vertical-align: top;\n",
       "    }\n",
       "\n",
       "    .dataframe thead th {\n",
       "        text-align: right;\n",
       "    }\n",
       "</style>\n",
       "<table border=\"1\" class=\"dataframe\">\n",
       "  <thead>\n",
       "    <tr style=\"text-align: right;\">\n",
       "      <th></th>\n",
       "      <th>y</th>\n",
       "      <th>ds</th>\n",
       "      <th>floor</th>\n",
       "      <th>cap</th>\n",
       "    </tr>\n",
       "    <tr>\n",
       "      <th>Date</th>\n",
       "      <th></th>\n",
       "      <th></th>\n",
       "      <th></th>\n",
       "      <th></th>\n",
       "    </tr>\n",
       "  </thead>\n",
       "  <tbody>\n",
       "    <tr>\n",
       "      <th>2023-11-01</th>\n",
       "      <td>2373.00</td>\n",
       "      <td>2023-11-01</td>\n",
       "      <td>0</td>\n",
       "      <td>10000</td>\n",
       "    </tr>\n",
       "    <tr>\n",
       "      <th>2023-12-01</th>\n",
       "      <td>937.80</td>\n",
       "      <td>2023-12-01</td>\n",
       "      <td>0</td>\n",
       "      <td>10000</td>\n",
       "    </tr>\n",
       "    <tr>\n",
       "      <th>2024-01-01</th>\n",
       "      <td>1235.74</td>\n",
       "      <td>2024-01-01</td>\n",
       "      <td>0</td>\n",
       "      <td>10000</td>\n",
       "    </tr>\n",
       "    <tr>\n",
       "      <th>2024-02-01</th>\n",
       "      <td>789.50</td>\n",
       "      <td>2024-02-01</td>\n",
       "      <td>0</td>\n",
       "      <td>10000</td>\n",
       "    </tr>\n",
       "    <tr>\n",
       "      <th>2024-03-01</th>\n",
       "      <td>952.70</td>\n",
       "      <td>2024-03-01</td>\n",
       "      <td>0</td>\n",
       "      <td>10000</td>\n",
       "    </tr>\n",
       "  </tbody>\n",
       "</table>\n",
       "</div>"
      ],
      "text/plain": [
       "                  y         ds  floor    cap\n",
       "Date                                        \n",
       "2023-11-01  2373.00 2023-11-01      0  10000\n",
       "2023-12-01   937.80 2023-12-01      0  10000\n",
       "2024-01-01  1235.74 2024-01-01      0  10000\n",
       "2024-02-01   789.50 2024-02-01      0  10000\n",
       "2024-03-01   952.70 2024-03-01      0  10000"
      ]
     },
     "execution_count": 10,
     "metadata": {},
     "output_type": "execute_result"
    }
   ],
   "source": [
    "# We need to add an additional column to the dataframe - cap for maximum, floor for minimum, and pass that to the model\n",
    "monthly[\"floor\"] = 0\n",
    "\n",
    "# A cap is NEEDED, not optional. Floor is optional.\n",
    "\n",
    "# Arbitrarily high cap:\n",
    "monthly[\"cap\"] = 10000\n",
    "monthly.tail()"
   ]
  },
  {
   "cell_type": "code",
   "execution_count": 11,
   "metadata": {},
   "outputs": [
    {
     "name": "stderr",
     "output_type": "stream",
     "text": [
      "12:30:50 - cmdstanpy - INFO - Chain [1] start processing\n",
      "12:30:50 - cmdstanpy - INFO - Chain [1] done processing\n"
     ]
    },
    {
     "data": {
      "text/plain": [
       "<prophet.forecaster.Prophet at 0x162fbe5f010>"
      ]
     },
     "execution_count": 11,
     "metadata": {},
     "output_type": "execute_result"
    }
   ],
   "source": [
    "model_logistic = Prophet(growth = \"logistic\")\n",
    "model_logistic.fit(monthly)"
   ]
  },
  {
   "cell_type": "code",
   "execution_count": 12,
   "metadata": {},
   "outputs": [
    {
     "data": {
      "text/html": [
       "<div>\n",
       "<style scoped>\n",
       "    .dataframe tbody tr th:only-of-type {\n",
       "        vertical-align: middle;\n",
       "    }\n",
       "\n",
       "    .dataframe tbody tr th {\n",
       "        vertical-align: top;\n",
       "    }\n",
       "\n",
       "    .dataframe thead th {\n",
       "        text-align: right;\n",
       "    }\n",
       "</style>\n",
       "<table border=\"1\" class=\"dataframe\">\n",
       "  <thead>\n",
       "    <tr style=\"text-align: right;\">\n",
       "      <th></th>\n",
       "      <th>ds</th>\n",
       "      <th>cap</th>\n",
       "      <th>floor</th>\n",
       "    </tr>\n",
       "  </thead>\n",
       "  <tbody>\n",
       "    <tr>\n",
       "      <th>37</th>\n",
       "      <td>2024-11-01</td>\n",
       "      <td>10000</td>\n",
       "      <td>0</td>\n",
       "    </tr>\n",
       "    <tr>\n",
       "      <th>38</th>\n",
       "      <td>2024-12-01</td>\n",
       "      <td>10000</td>\n",
       "      <td>0</td>\n",
       "    </tr>\n",
       "    <tr>\n",
       "      <th>39</th>\n",
       "      <td>2025-01-01</td>\n",
       "      <td>10000</td>\n",
       "      <td>0</td>\n",
       "    </tr>\n",
       "    <tr>\n",
       "      <th>40</th>\n",
       "      <td>2025-02-01</td>\n",
       "      <td>10000</td>\n",
       "      <td>0</td>\n",
       "    </tr>\n",
       "    <tr>\n",
       "      <th>41</th>\n",
       "      <td>2025-03-01</td>\n",
       "      <td>10000</td>\n",
       "      <td>0</td>\n",
       "    </tr>\n",
       "  </tbody>\n",
       "</table>\n",
       "</div>"
      ],
      "text/plain": [
       "           ds    cap  floor\n",
       "37 2024-11-01  10000      0\n",
       "38 2024-12-01  10000      0\n",
       "39 2025-01-01  10000      0\n",
       "40 2025-02-01  10000      0\n",
       "41 2025-03-01  10000      0"
      ]
     },
     "execution_count": 12,
     "metadata": {},
     "output_type": "execute_result"
    }
   ],
   "source": [
    "future = model_logistic.make_future_dataframe(periods = 12, freq = \"MS\")\n",
    "future[\"cap\"] = 10000\n",
    "future[\"floor\"] = 0\n",
    "future.tail()"
   ]
  },
  {
   "cell_type": "code",
   "execution_count": 13,
   "metadata": {},
   "outputs": [
    {
     "name": "stderr",
     "output_type": "stream",
     "text": [
      "c:\\Projekti_programiranje\\Python\\Python projects\\ML_in_Python\\time_series_expenses\\.venv\\Lib\\site-packages\\prophet\\plot.py:72: FutureWarning:\n",
      "\n",
      "The behavior of DatetimeProperties.to_pydatetime is deprecated, in a future version this will return a Series containing python datetime objects instead of an ndarray. To retain the old behavior, call `np.array` on the result\n",
      "\n",
      "c:\\Projekti_programiranje\\Python\\Python projects\\ML_in_Python\\time_series_expenses\\.venv\\Lib\\site-packages\\prophet\\plot.py:73: FutureWarning:\n",
      "\n",
      "The behavior of DatetimeProperties.to_pydatetime is deprecated, in a future version this will return a Series containing python datetime objects instead of an ndarray. To retain the old behavior, call `np.array` on the result\n",
      "\n"
     ]
    },
    {
     "data": {
      "text/plain": [
       "(0.0, 3000.0)"
      ]
     },
     "execution_count": 13,
     "metadata": {},
     "output_type": "execute_result"
    },
    {
     "data": {
      "image/png": "[encoded data removed]",
      "text/plain": [
       "<Figure size 1000x600 with 1 Axes>"
      ]
     },
     "metadata": {},
     "output_type": "display_data"
    }
   ],
   "source": [
    "forecast2 = model_logistic.predict(future)\n",
    "fig_logistic = model_logistic.plot(forecast2)\n",
    "\n",
    "# Set the axis to not stretch to 10000\n",
    "axes = fig_logistic.gca()\n",
    "axes.set_ylim([0, 3000])"
   ]
  },
  {
   "cell_type": "markdown",
   "metadata": {},
   "source": [
    "## Cross validation"
   ]
  },
  {
   "cell_type": "code",
   "execution_count": 14,
   "metadata": {},
   "outputs": [
    {
     "name": "stderr",
     "output_type": "stream",
     "text": [
      "12:30:50 - cmdstanpy - INFO - Chain [1] start processing\n",
      "12:30:50 - cmdstanpy - INFO - Chain [1] done processing\n"
     ]
    },
    {
     "data": {
      "text/plain": [
       "<prophet.forecaster.Prophet at 0x162fbeb9350>"
      ]
     },
     "execution_count": 14,
     "metadata": {},
     "output_type": "execute_result"
    }
   ],
   "source": [
    "monthly_model = Prophet(yearly_seasonality= True, weekly_seasonality= False, daily_seasonality=False)\n",
    "# Info for monthly seasonality: https://stackoverflow.com/a/71810822/21445669\n",
    "monthly_model.add_seasonality(\n",
    "    name = \"monthly\",\n",
    "    period = 30.5,\n",
    "    fourier_order= 5\n",
    ")\n",
    "monthly_model.fit(monthly)"
   ]
  },
  {
   "cell_type": "code",
   "execution_count": 15,
   "metadata": {},
   "outputs": [
    {
     "data": {
      "text/html": [
       "<div>\n",
       "<style scoped>\n",
       "    .dataframe tbody tr th:only-of-type {\n",
       "        vertical-align: middle;\n",
       "    }\n",
       "\n",
       "    .dataframe tbody tr th {\n",
       "        vertical-align: top;\n",
       "    }\n",
       "\n",
       "    .dataframe thead th {\n",
       "        text-align: right;\n",
       "    }\n",
       "</style>\n",
       "<table border=\"1\" class=\"dataframe\">\n",
       "  <thead>\n",
       "    <tr style=\"text-align: right;\">\n",
       "      <th></th>\n",
       "      <th>ds</th>\n",
       "      <th>yhat</th>\n",
       "      <th>yhat_lower</th>\n",
       "      <th>yhat_upper</th>\n",
       "    </tr>\n",
       "  </thead>\n",
       "  <tbody>\n",
       "    <tr>\n",
       "      <th>29</th>\n",
       "      <td>2024-03-01</td>\n",
       "      <td>956.337524</td>\n",
       "      <td>756.321692</td>\n",
       "      <td>1154.294631</td>\n",
       "    </tr>\n",
       "    <tr>\n",
       "      <th>30</th>\n",
       "      <td>2024-04-01</td>\n",
       "      <td>2436.708479</td>\n",
       "      <td>2250.154354</td>\n",
       "      <td>2639.622884</td>\n",
       "    </tr>\n",
       "    <tr>\n",
       "      <th>31</th>\n",
       "      <td>2024-05-01</td>\n",
       "      <td>1386.028316</td>\n",
       "      <td>1195.113488</td>\n",
       "      <td>1572.764027</td>\n",
       "    </tr>\n",
       "    <tr>\n",
       "      <th>32</th>\n",
       "      <td>2024-06-01</td>\n",
       "      <td>1216.527989</td>\n",
       "      <td>1001.307768</td>\n",
       "      <td>1402.787104</td>\n",
       "    </tr>\n",
       "    <tr>\n",
       "      <th>33</th>\n",
       "      <td>2024-07-01</td>\n",
       "      <td>1287.025440</td>\n",
       "      <td>1095.826301</td>\n",
       "      <td>1478.997886</td>\n",
       "    </tr>\n",
       "    <tr>\n",
       "      <th>34</th>\n",
       "      <td>2024-08-01</td>\n",
       "      <td>3333.430511</td>\n",
       "      <td>3130.888153</td>\n",
       "      <td>3523.174067</td>\n",
       "    </tr>\n",
       "    <tr>\n",
       "      <th>35</th>\n",
       "      <td>2024-09-01</td>\n",
       "      <td>2153.353838</td>\n",
       "      <td>1955.833628</td>\n",
       "      <td>2352.842197</td>\n",
       "    </tr>\n",
       "    <tr>\n",
       "      <th>36</th>\n",
       "      <td>2024-10-01</td>\n",
       "      <td>2324.469344</td>\n",
       "      <td>2127.506872</td>\n",
       "      <td>2504.844087</td>\n",
       "    </tr>\n",
       "    <tr>\n",
       "      <th>37</th>\n",
       "      <td>2024-11-01</td>\n",
       "      <td>1214.924548</td>\n",
       "      <td>1013.850879</td>\n",
       "      <td>1403.953633</td>\n",
       "    </tr>\n",
       "    <tr>\n",
       "      <th>38</th>\n",
       "      <td>2024-12-01</td>\n",
       "      <td>2111.664311</td>\n",
       "      <td>1917.507763</td>\n",
       "      <td>2305.977252</td>\n",
       "    </tr>\n",
       "    <tr>\n",
       "      <th>39</th>\n",
       "      <td>2025-01-01</td>\n",
       "      <td>1997.622972</td>\n",
       "      <td>1819.810987</td>\n",
       "      <td>2197.805026</td>\n",
       "    </tr>\n",
       "    <tr>\n",
       "      <th>40</th>\n",
       "      <td>2025-02-01</td>\n",
       "      <td>1986.397889</td>\n",
       "      <td>1782.296403</td>\n",
       "      <td>2170.461543</td>\n",
       "    </tr>\n",
       "    <tr>\n",
       "      <th>41</th>\n",
       "      <td>2025-03-01</td>\n",
       "      <td>296.316801</td>\n",
       "      <td>97.329925</td>\n",
       "      <td>491.629421</td>\n",
       "    </tr>\n",
       "  </tbody>\n",
       "</table>\n",
       "</div>"
      ],
      "text/plain": [
       "           ds         yhat   yhat_lower   yhat_upper\n",
       "29 2024-03-01   956.337524   756.321692  1154.294631\n",
       "30 2024-04-01  2436.708479  2250.154354  2639.622884\n",
       "31 2024-05-01  1386.028316  1195.113488  1572.764027\n",
       "32 2024-06-01  1216.527989  1001.307768  1402.787104\n",
       "33 2024-07-01  1287.025440  1095.826301  1478.997886\n",
       "34 2024-08-01  3333.430511  3130.888153  3523.174067\n",
       "35 2024-09-01  2153.353838  1955.833628  2352.842197\n",
       "36 2024-10-01  2324.469344  2127.506872  2504.844087\n",
       "37 2024-11-01  1214.924548  1013.850879  1403.953633\n",
       "38 2024-12-01  2111.664311  1917.507763  2305.977252\n",
       "39 2025-01-01  1997.622972  1819.810987  2197.805026\n",
       "40 2025-02-01  1986.397889  1782.296403  2170.461543\n",
       "41 2025-03-01   296.316801    97.329925   491.629421"
      ]
     },
     "execution_count": 15,
     "metadata": {},
     "output_type": "execute_result"
    }
   ],
   "source": [
    "# Predict next year\n",
    "future = monthly_model.make_future_dataframe(periods = 12, freq = \"MS\")\n",
    "forecast = monthly_model.predict(future)[[\"ds\", \"yhat\", \"yhat_lower\", \"yhat_upper\"]]\n",
    "\n",
    "forecast.tail(13)"
   ]
  },
  {
   "cell_type": "code",
   "execution_count": 16,
   "metadata": {},
   "outputs": [
    {
     "name": "stderr",
     "output_type": "stream",
     "text": [
      "c:\\Projekti_programiranje\\Python\\Python projects\\ML_in_Python\\time_series_expenses\\.venv\\Lib\\site-packages\\prophet\\plot.py:72: FutureWarning:\n",
      "\n",
      "The behavior of DatetimeProperties.to_pydatetime is deprecated, in a future version this will return a Series containing python datetime objects instead of an ndarray. To retain the old behavior, call `np.array` on the result\n",
      "\n",
      "c:\\Projekti_programiranje\\Python\\Python projects\\ML_in_Python\\time_series_expenses\\.venv\\Lib\\site-packages\\prophet\\plot.py:73: FutureWarning:\n",
      "\n",
      "The behavior of DatetimeProperties.to_pydatetime is deprecated, in a future version this will return a Series containing python datetime objects instead of an ndarray. To retain the old behavior, call `np.array` on the result\n",
      "\n"
     ]
    },
    {
     "data": {
      "image/png": "[encoded data removed]",
      "text/plain": [
       "<Figure size 1000x600 with 1 Axes>"
      ]
     },
     "metadata": {},
     "output_type": "display_data"
    }
   ],
   "source": [
    "# Automatic plotting of a given dataframe\n",
    "figure2 = monthly_model.plot(forecast)"
   ]
  },
  {
   "cell_type": "code",
   "execution_count": 17,
   "metadata": {},
   "outputs": [
    {
     "data": {
      "text/html": [
       "<div>\n",
       "<style scoped>\n",
       "    .dataframe tbody tr th:only-of-type {\n",
       "        vertical-align: middle;\n",
       "    }\n",
       "\n",
       "    .dataframe tbody tr th {\n",
       "        vertical-align: top;\n",
       "    }\n",
       "\n",
       "    .dataframe thead th {\n",
       "        text-align: right;\n",
       "    }\n",
       "</style>\n",
       "<table border=\"1\" class=\"dataframe\">\n",
       "  <thead>\n",
       "    <tr style=\"text-align: right;\">\n",
       "      <th></th>\n",
       "      <th>yhat</th>\n",
       "      <th>y</th>\n",
       "    </tr>\n",
       "    <tr>\n",
       "      <th>ds</th>\n",
       "      <th></th>\n",
       "      <th></th>\n",
       "    </tr>\n",
       "  </thead>\n",
       "  <tbody>\n",
       "    <tr>\n",
       "      <th>2021-10-01</th>\n",
       "      <td>622.551653</td>\n",
       "      <td>659.76</td>\n",
       "    </tr>\n",
       "    <tr>\n",
       "      <th>2021-11-01</th>\n",
       "      <td>607.686198</td>\n",
       "      <td>840.82</td>\n",
       "    </tr>\n",
       "    <tr>\n",
       "      <th>2021-12-01</th>\n",
       "      <td>619.206352</td>\n",
       "      <td>378.26</td>\n",
       "    </tr>\n",
       "    <tr>\n",
       "      <th>2022-01-01</th>\n",
       "      <td>821.770109</td>\n",
       "      <td>825.94</td>\n",
       "    </tr>\n",
       "    <tr>\n",
       "      <th>2022-02-01</th>\n",
       "      <td>642.944763</td>\n",
       "      <td>551.60</td>\n",
       "    </tr>\n",
       "  </tbody>\n",
       "</table>\n",
       "</div>"
      ],
      "text/plain": [
       "                  yhat       y\n",
       "ds                            \n",
       "2021-10-01  622.551653  659.76\n",
       "2021-11-01  607.686198  840.82\n",
       "2021-12-01  619.206352  378.26\n",
       "2022-01-01  821.770109  825.94\n",
       "2022-02-01  642.944763  551.60"
      ]
     },
     "execution_count": 17,
     "metadata": {},
     "output_type": "execute_result"
    }
   ],
   "source": [
    "metrics_df = create_metrics_df(monthly, forecast)\n",
    "\n",
    "metrics_df.head()"
   ]
  },
  {
   "cell_type": "code",
   "execution_count": 18,
   "metadata": {},
   "outputs": [
    {
     "name": "stdout",
     "output_type": "stream",
     "text": [
      "0.8847150003149764\n",
      "23957.269245782478\n",
      "RMSE: 154.78135949067794\n",
      "MAE: 90.22034537211695\n"
     ]
    }
   ],
   "source": [
    "from sklearn.metrics import mean_squared_error, r2_score, mean_absolute_error, root_mean_squared_error\n",
    "\n",
    "print(r2_score(metrics_df.y, metrics_df.yhat))\n",
    "print(mean_squared_error(metrics_df.y, metrics_df.yhat))\n",
    "print(f\"RMSE: {root_mean_squared_error(metrics_df.y, metrics_df.yhat)}\")\n",
    "print(f\"MAE: {mean_absolute_error(metrics_df.y, metrics_df.yhat)}\")\n"
   ]
  },
  {
   "cell_type": "code",
   "execution_count": 19,
   "metadata": {},
   "outputs": [
    {
     "data": {
      "text/html": [
       "<div>\n",
       "<style scoped>\n",
       "    .dataframe tbody tr th:only-of-type {\n",
       "        vertical-align: middle;\n",
       "    }\n",
       "\n",
       "    .dataframe tbody tr th {\n",
       "        vertical-align: top;\n",
       "    }\n",
       "\n",
       "    .dataframe thead th {\n",
       "        text-align: right;\n",
       "    }\n",
       "</style>\n",
       "<table border=\"1\" class=\"dataframe\">\n",
       "  <thead>\n",
       "    <tr style=\"text-align: right;\">\n",
       "      <th></th>\n",
       "      <th>y</th>\n",
       "      <th>ds</th>\n",
       "      <th>floor</th>\n",
       "      <th>cap</th>\n",
       "    </tr>\n",
       "    <tr>\n",
       "      <th>Date</th>\n",
       "      <th></th>\n",
       "      <th></th>\n",
       "      <th></th>\n",
       "      <th></th>\n",
       "    </tr>\n",
       "  </thead>\n",
       "  <tbody>\n",
       "    <tr>\n",
       "      <th>2023-11-01</th>\n",
       "      <td>2373.00</td>\n",
       "      <td>2023-11-01</td>\n",
       "      <td>0</td>\n",
       "      <td>10000</td>\n",
       "    </tr>\n",
       "    <tr>\n",
       "      <th>2023-12-01</th>\n",
       "      <td>937.80</td>\n",
       "      <td>2023-12-01</td>\n",
       "      <td>0</td>\n",
       "      <td>10000</td>\n",
       "    </tr>\n",
       "    <tr>\n",
       "      <th>2024-01-01</th>\n",
       "      <td>1235.74</td>\n",
       "      <td>2024-01-01</td>\n",
       "      <td>0</td>\n",
       "      <td>10000</td>\n",
       "    </tr>\n",
       "    <tr>\n",
       "      <th>2024-02-01</th>\n",
       "      <td>789.50</td>\n",
       "      <td>2024-02-01</td>\n",
       "      <td>0</td>\n",
       "      <td>10000</td>\n",
       "    </tr>\n",
       "    <tr>\n",
       "      <th>2024-03-01</th>\n",
       "      <td>952.70</td>\n",
       "      <td>2024-03-01</td>\n",
       "      <td>0</td>\n",
       "      <td>10000</td>\n",
       "    </tr>\n",
       "  </tbody>\n",
       "</table>\n",
       "</div>"
      ],
      "text/plain": [
       "                  y         ds  floor    cap\n",
       "Date                                        \n",
       "2023-11-01  2373.00 2023-11-01      0  10000\n",
       "2023-12-01   937.80 2023-12-01      0  10000\n",
       "2024-01-01  1235.74 2024-01-01      0  10000\n",
       "2024-02-01   789.50 2024-02-01      0  10000\n",
       "2024-03-01   952.70 2024-03-01      0  10000"
      ]
     },
     "execution_count": 19,
     "metadata": {},
     "output_type": "execute_result"
    }
   ],
   "source": [
    "monthly.tail()"
   ]
  },
  {
   "cell_type": "code",
   "execution_count": 20,
   "metadata": {},
   "outputs": [],
   "source": [
    "# Implementing monthly CV: https://github.com/facebook/prophet/issues/1672\n",
    "\n",
    "# Forecast horizon: 1 year\n",
    "# Period for walking through cross-validation: 3 months\n",
    "import pandas as pd\n",
    "# Start date -- minimum observed + training period. Here set to 1 year\n",
    "# Ending = last observed data point - forecast horizon duration\n",
    "cutoff_dates = pd.date_range(start=\"2023-01-01\", end = \"2023-03-01\", freq=\"1MS\")"
   ]
  },
  {
   "cell_type": "code",
   "execution_count": 21,
   "metadata": {},
   "outputs": [
    {
     "data": {
      "text/html": [
       "<div>\n",
       "<style scoped>\n",
       "    .dataframe tbody tr th:only-of-type {\n",
       "        vertical-align: middle;\n",
       "    }\n",
       "\n",
       "    .dataframe tbody tr th {\n",
       "        vertical-align: top;\n",
       "    }\n",
       "\n",
       "    .dataframe thead th {\n",
       "        text-align: right;\n",
       "    }\n",
       "</style>\n",
       "<table border=\"1\" class=\"dataframe\">\n",
       "  <thead>\n",
       "    <tr style=\"text-align: right;\">\n",
       "      <th></th>\n",
       "      <th>ds</th>\n",
       "      <th>yhat</th>\n",
       "      <th>yhat_lower</th>\n",
       "      <th>yhat_upper</th>\n",
       "      <th>y</th>\n",
       "      <th>cutoff</th>\n",
       "    </tr>\n",
       "  </thead>\n",
       "  <tbody>\n",
       "    <tr>\n",
       "      <th>0</th>\n",
       "      <td>2023-02-01</td>\n",
       "      <td>80.043821</td>\n",
       "      <td>78.415881</td>\n",
       "      <td>81.614063</td>\n",
       "      <td>951.44</td>\n",
       "      <td>2023-01-01</td>\n",
       "    </tr>\n",
       "    <tr>\n",
       "      <th>1</th>\n",
       "      <td>2023-03-01</td>\n",
       "      <td>1279.127387</td>\n",
       "      <td>1273.937124</td>\n",
       "      <td>1284.287003</td>\n",
       "      <td>585.24</td>\n",
       "      <td>2023-01-01</td>\n",
       "    </tr>\n",
       "    <tr>\n",
       "      <th>2</th>\n",
       "      <td>2023-04-01</td>\n",
       "      <td>3361.307814</td>\n",
       "      <td>3351.734053</td>\n",
       "      <td>3370.988446</td>\n",
       "      <td>896.00</td>\n",
       "      <td>2023-01-01</td>\n",
       "    </tr>\n",
       "    <tr>\n",
       "      <th>3</th>\n",
       "      <td>2023-05-01</td>\n",
       "      <td>337.758694</td>\n",
       "      <td>322.362040</td>\n",
       "      <td>353.304778</td>\n",
       "      <td>724.44</td>\n",
       "      <td>2023-01-01</td>\n",
       "    </tr>\n",
       "    <tr>\n",
       "      <th>4</th>\n",
       "      <td>2023-06-01</td>\n",
       "      <td>-55.750946</td>\n",
       "      <td>-77.531453</td>\n",
       "      <td>-33.151871</td>\n",
       "      <td>1108.14</td>\n",
       "      <td>2023-01-01</td>\n",
       "    </tr>\n",
       "    <tr>\n",
       "      <th>5</th>\n",
       "      <td>2023-07-01</td>\n",
       "      <td>4526.206046</td>\n",
       "      <td>4497.616522</td>\n",
       "      <td>4556.279883</td>\n",
       "      <td>2142.70</td>\n",
       "      <td>2023-01-01</td>\n",
       "    </tr>\n",
       "    <tr>\n",
       "      <th>6</th>\n",
       "      <td>2023-08-01</td>\n",
       "      <td>-544.710091</td>\n",
       "      <td>-580.855510</td>\n",
       "      <td>-505.205595</td>\n",
       "      <td>748.90</td>\n",
       "      <td>2023-01-01</td>\n",
       "    </tr>\n",
       "    <tr>\n",
       "      <th>7</th>\n",
       "      <td>2023-09-01</td>\n",
       "      <td>7119.674309</td>\n",
       "      <td>7076.667237</td>\n",
       "      <td>7168.412489</td>\n",
       "      <td>1052.40</td>\n",
       "      <td>2023-01-01</td>\n",
       "    </tr>\n",
       "    <tr>\n",
       "      <th>8</th>\n",
       "      <td>2023-10-01</td>\n",
       "      <td>708.795147</td>\n",
       "      <td>657.101695</td>\n",
       "      <td>765.999594</td>\n",
       "      <td>842.60</td>\n",
       "      <td>2023-01-01</td>\n",
       "    </tr>\n",
       "    <tr>\n",
       "      <th>9</th>\n",
       "      <td>2023-11-01</td>\n",
       "      <td>2163.422285</td>\n",
       "      <td>2103.409548</td>\n",
       "      <td>2230.727348</td>\n",
       "      <td>2373.00</td>\n",
       "      <td>2023-01-01</td>\n",
       "    </tr>\n",
       "    <tr>\n",
       "      <th>10</th>\n",
       "      <td>2023-12-01</td>\n",
       "      <td>2562.228754</td>\n",
       "      <td>2492.441040</td>\n",
       "      <td>2639.746440</td>\n",
       "      <td>937.80</td>\n",
       "      <td>2023-01-01</td>\n",
       "    </tr>\n",
       "    <tr>\n",
       "      <th>11</th>\n",
       "      <td>2024-01-01</td>\n",
       "      <td>2360.681791</td>\n",
       "      <td>2281.217380</td>\n",
       "      <td>2448.228853</td>\n",
       "      <td>1235.74</td>\n",
       "      <td>2023-01-01</td>\n",
       "    </tr>\n",
       "    <tr>\n",
       "      <th>12</th>\n",
       "      <td>2023-03-01</td>\n",
       "      <td>4989.163622</td>\n",
       "      <td>4987.197516</td>\n",
       "      <td>4991.031781</td>\n",
       "      <td>585.24</td>\n",
       "      <td>2023-02-01</td>\n",
       "    </tr>\n",
       "    <tr>\n",
       "      <th>13</th>\n",
       "      <td>2023-04-01</td>\n",
       "      <td>3913.615012</td>\n",
       "      <td>3907.225832</td>\n",
       "      <td>3919.510140</td>\n",
       "      <td>896.00</td>\n",
       "      <td>2023-02-01</td>\n",
       "    </tr>\n",
       "    <tr>\n",
       "      <th>14</th>\n",
       "      <td>2023-05-01</td>\n",
       "      <td>5831.000263</td>\n",
       "      <td>5818.255412</td>\n",
       "      <td>5841.913644</td>\n",
       "      <td>724.44</td>\n",
       "      <td>2023-02-01</td>\n",
       "    </tr>\n",
       "    <tr>\n",
       "      <th>15</th>\n",
       "      <td>2023-06-01</td>\n",
       "      <td>4786.185783</td>\n",
       "      <td>4766.336553</td>\n",
       "      <td>4803.193217</td>\n",
       "      <td>1108.14</td>\n",
       "      <td>2023-02-01</td>\n",
       "    </tr>\n",
       "    <tr>\n",
       "      <th>16</th>\n",
       "      <td>2023-07-01</td>\n",
       "      <td>6439.945380</td>\n",
       "      <td>6411.352586</td>\n",
       "      <td>6464.922180</td>\n",
       "      <td>2142.70</td>\n",
       "      <td>2023-02-01</td>\n",
       "    </tr>\n",
       "    <tr>\n",
       "      <th>17</th>\n",
       "      <td>2023-08-01</td>\n",
       "      <td>3961.799903</td>\n",
       "      <td>3924.878889</td>\n",
       "      <td>3995.152567</td>\n",
       "      <td>748.90</td>\n",
       "      <td>2023-02-01</td>\n",
       "    </tr>\n",
       "    <tr>\n",
       "      <th>18</th>\n",
       "      <td>2023-09-01</td>\n",
       "      <td>2164.815790</td>\n",
       "      <td>2117.760605</td>\n",
       "      <td>2206.949424</td>\n",
       "      <td>1052.40</td>\n",
       "      <td>2023-02-01</td>\n",
       "    </tr>\n",
       "    <tr>\n",
       "      <th>19</th>\n",
       "      <td>2023-10-01</td>\n",
       "      <td>3323.949547</td>\n",
       "      <td>3267.735631</td>\n",
       "      <td>3374.824614</td>\n",
       "      <td>842.60</td>\n",
       "      <td>2023-02-01</td>\n",
       "    </tr>\n",
       "    <tr>\n",
       "      <th>20</th>\n",
       "      <td>2023-11-01</td>\n",
       "      <td>1900.422357</td>\n",
       "      <td>1832.105499</td>\n",
       "      <td>1962.486797</td>\n",
       "      <td>2373.00</td>\n",
       "      <td>2023-02-01</td>\n",
       "    </tr>\n",
       "    <tr>\n",
       "      <th>21</th>\n",
       "      <td>2023-12-01</td>\n",
       "      <td>5126.281619</td>\n",
       "      <td>5049.351823</td>\n",
       "      <td>5200.152431</td>\n",
       "      <td>937.80</td>\n",
       "      <td>2023-02-01</td>\n",
       "    </tr>\n",
       "    <tr>\n",
       "      <th>22</th>\n",
       "      <td>2024-01-01</td>\n",
       "      <td>2064.577723</td>\n",
       "      <td>1975.864937</td>\n",
       "      <td>2152.680496</td>\n",
       "      <td>1235.74</td>\n",
       "      <td>2023-02-01</td>\n",
       "    </tr>\n",
       "    <tr>\n",
       "      <th>23</th>\n",
       "      <td>2024-02-01</td>\n",
       "      <td>1318.251013</td>\n",
       "      <td>1215.860394</td>\n",
       "      <td>1421.141034</td>\n",
       "      <td>789.50</td>\n",
       "      <td>2023-02-01</td>\n",
       "    </tr>\n",
       "    <tr>\n",
       "      <th>24</th>\n",
       "      <td>2023-04-01</td>\n",
       "      <td>698.689055</td>\n",
       "      <td>698.689053</td>\n",
       "      <td>698.689057</td>\n",
       "      <td>896.00</td>\n",
       "      <td>2023-03-01</td>\n",
       "    </tr>\n",
       "    <tr>\n",
       "      <th>25</th>\n",
       "      <td>2023-05-01</td>\n",
       "      <td>831.635343</td>\n",
       "      <td>831.635339</td>\n",
       "      <td>831.635348</td>\n",
       "      <td>724.44</td>\n",
       "      <td>2023-03-01</td>\n",
       "    </tr>\n",
       "    <tr>\n",
       "      <th>26</th>\n",
       "      <td>2023-06-01</td>\n",
       "      <td>434.682328</td>\n",
       "      <td>434.682318</td>\n",
       "      <td>434.682336</td>\n",
       "      <td>1108.14</td>\n",
       "      <td>2023-03-01</td>\n",
       "    </tr>\n",
       "    <tr>\n",
       "      <th>27</th>\n",
       "      <td>2023-07-01</td>\n",
       "      <td>1853.734397</td>\n",
       "      <td>1853.734383</td>\n",
       "      <td>1853.734412</td>\n",
       "      <td>2142.70</td>\n",
       "      <td>2023-03-01</td>\n",
       "    </tr>\n",
       "    <tr>\n",
       "      <th>28</th>\n",
       "      <td>2023-08-01</td>\n",
       "      <td>1166.156317</td>\n",
       "      <td>1166.156297</td>\n",
       "      <td>1166.156338</td>\n",
       "      <td>748.90</td>\n",
       "      <td>2023-03-01</td>\n",
       "    </tr>\n",
       "    <tr>\n",
       "      <th>29</th>\n",
       "      <td>2023-09-01</td>\n",
       "      <td>750.559616</td>\n",
       "      <td>750.559589</td>\n",
       "      <td>750.559642</td>\n",
       "      <td>1052.40</td>\n",
       "      <td>2023-03-01</td>\n",
       "    </tr>\n",
       "    <tr>\n",
       "      <th>30</th>\n",
       "      <td>2023-10-01</td>\n",
       "      <td>472.063173</td>\n",
       "      <td>472.063140</td>\n",
       "      <td>472.063207</td>\n",
       "      <td>842.60</td>\n",
       "      <td>2023-03-01</td>\n",
       "    </tr>\n",
       "    <tr>\n",
       "      <th>31</th>\n",
       "      <td>2023-11-01</td>\n",
       "      <td>308.494679</td>\n",
       "      <td>308.494637</td>\n",
       "      <td>308.494721</td>\n",
       "      <td>2373.00</td>\n",
       "      <td>2023-03-01</td>\n",
       "    </tr>\n",
       "    <tr>\n",
       "      <th>32</th>\n",
       "      <td>2023-12-01</td>\n",
       "      <td>2209.649968</td>\n",
       "      <td>2209.649918</td>\n",
       "      <td>2209.650020</td>\n",
       "      <td>937.80</td>\n",
       "      <td>2023-03-01</td>\n",
       "    </tr>\n",
       "    <tr>\n",
       "      <th>33</th>\n",
       "      <td>2024-01-01</td>\n",
       "      <td>407.160786</td>\n",
       "      <td>407.160725</td>\n",
       "      <td>407.160847</td>\n",
       "      <td>1235.74</td>\n",
       "      <td>2023-03-01</td>\n",
       "    </tr>\n",
       "    <tr>\n",
       "      <th>34</th>\n",
       "      <td>2024-02-01</td>\n",
       "      <td>988.854898</td>\n",
       "      <td>988.854826</td>\n",
       "      <td>988.854969</td>\n",
       "      <td>789.50</td>\n",
       "      <td>2023-03-01</td>\n",
       "    </tr>\n",
       "  </tbody>\n",
       "</table>\n",
       "</div>"
      ],
      "text/plain": [
       "           ds         yhat   yhat_lower   yhat_upper        y     cutoff\n",
       "0  2023-02-01    80.043821    78.415881    81.614063   951.44 2023-01-01\n",
       "1  2023-03-01  1279.127387  1273.937124  1284.287003   585.24 2023-01-01\n",
       "2  2023-04-01  3361.307814  3351.734053  3370.988446   896.00 2023-01-01\n",
       "3  2023-05-01   337.758694   322.362040   353.304778   724.44 2023-01-01\n",
       "4  2023-06-01   -55.750946   -77.531453   -33.151871  1108.14 2023-01-01\n",
       "5  2023-07-01  4526.206046  4497.616522  4556.279883  2142.70 2023-01-01\n",
       "6  2023-08-01  -544.710091  -580.855510  -505.205595   748.90 2023-01-01\n",
       "7  2023-09-01  7119.674309  7076.667237  7168.412489  1052.40 2023-01-01\n",
       "8  2023-10-01   708.795147   657.101695   765.999594   842.60 2023-01-01\n",
       "9  2023-11-01  2163.422285  2103.409548  2230.727348  2373.00 2023-01-01\n",
       "10 2023-12-01  2562.228754  2492.441040  2639.746440   937.80 2023-01-01\n",
       "11 2024-01-01  2360.681791  2281.217380  2448.228853  1235.74 2023-01-01\n",
       "12 2023-03-01  4989.163622  4987.197516  4991.031781   585.24 2023-02-01\n",
       "13 2023-04-01  3913.615012  3907.225832  3919.510140   896.00 2023-02-01\n",
       "14 2023-05-01  5831.000263  5818.255412  5841.913644   724.44 2023-02-01\n",
       "15 2023-06-01  4786.185783  4766.336553  4803.193217  1108.14 2023-02-01\n",
       "16 2023-07-01  6439.945380  6411.352586  6464.922180  2142.70 2023-02-01\n",
       "17 2023-08-01  3961.799903  3924.878889  3995.152567   748.90 2023-02-01\n",
       "18 2023-09-01  2164.815790  2117.760605  2206.949424  1052.40 2023-02-01\n",
       "19 2023-10-01  3323.949547  3267.735631  3374.824614   842.60 2023-02-01\n",
       "20 2023-11-01  1900.422357  1832.105499  1962.486797  2373.00 2023-02-01\n",
       "21 2023-12-01  5126.281619  5049.351823  5200.152431   937.80 2023-02-01\n",
       "22 2024-01-01  2064.577723  1975.864937  2152.680496  1235.74 2023-02-01\n",
       "23 2024-02-01  1318.251013  1215.860394  1421.141034   789.50 2023-02-01\n",
       "24 2023-04-01   698.689055   698.689053   698.689057   896.00 2023-03-01\n",
       "25 2023-05-01   831.635343   831.635339   831.635348   724.44 2023-03-01\n",
       "26 2023-06-01   434.682328   434.682318   434.682336  1108.14 2023-03-01\n",
       "27 2023-07-01  1853.734397  1853.734383  1853.734412  2142.70 2023-03-01\n",
       "28 2023-08-01  1166.156317  1166.156297  1166.156338   748.90 2023-03-01\n",
       "29 2023-09-01   750.559616   750.559589   750.559642  1052.40 2023-03-01\n",
       "30 2023-10-01   472.063173   472.063140   472.063207   842.60 2023-03-01\n",
       "31 2023-11-01   308.494679   308.494637   308.494721  2373.00 2023-03-01\n",
       "32 2023-12-01  2209.649968  2209.649918  2209.650020   937.80 2023-03-01\n",
       "33 2024-01-01   407.160786   407.160725   407.160847  1235.74 2023-03-01\n",
       "34 2024-02-01   988.854898   988.854826   988.854969   789.50 2023-03-01"
      ]
     },
     "execution_count": 21,
     "metadata": {},
     "output_type": "execute_result"
    }
   ],
   "source": [
    "from prophet.diagnostics import cross_validation\n",
    "\n",
    "cross_validated = cross_validation(model = monthly_model,\n",
    "                                   horizon = \"365 days\",\n",
    "                                   cutoffs = cutoff_dates,\n",
    "                                   # Parallel computing\n",
    "                                   parallel=\"processes\")\n",
    "cross_validated"
   ]
  },
  {
   "cell_type": "code",
   "execution_count": 22,
   "metadata": {},
   "outputs": [
    {
     "name": "stdout",
     "output_type": "stream",
     "text": [
      "-17.625172814624534\n",
      "5359245.378025328\n",
      "RMSE: 2315.004401297183\n",
      "MAE: 1670.510370897913\n"
     ]
    }
   ],
   "source": [
    "# raw perfomance metrics - all rows\n",
    "\n",
    "print(r2_score(cross_validated.y, cross_validated.yhat))\n",
    "print(mean_squared_error(cross_validated.y, cross_validated.yhat))\n",
    "print(f\"RMSE: {root_mean_squared_error(cross_validated.y, cross_validated.yhat)}\")\n",
    "print(f\"MAE: {mean_absolute_error(cross_validated.y, cross_validated.yhat)}\")"
   ]
  },
  {
   "cell_type": "code",
   "execution_count": 25,
   "metadata": {},
   "outputs": [
    {
     "data": {
      "text/html": [
       "<div>\n",
       "<style scoped>\n",
       "    .dataframe tbody tr th:only-of-type {\n",
       "        vertical-align: middle;\n",
       "    }\n",
       "\n",
       "    .dataframe tbody tr th {\n",
       "        vertical-align: top;\n",
       "    }\n",
       "\n",
       "    .dataframe thead th {\n",
       "        text-align: right;\n",
       "    }\n",
       "</style>\n",
       "<table border=\"1\" class=\"dataframe\">\n",
       "  <thead>\n",
       "    <tr style=\"text-align: right;\">\n",
       "      <th></th>\n",
       "      <th>horizon</th>\n",
       "      <th>mse</th>\n",
       "      <th>rmse</th>\n",
       "      <th>mae</th>\n",
       "      <th>mape</th>\n",
       "      <th>mdape</th>\n",
       "      <th>smape</th>\n",
       "      <th>coverage</th>\n",
       "    </tr>\n",
       "  </thead>\n",
       "  <tbody>\n",
       "    <tr>\n",
       "      <th>0</th>\n",
       "      <td>365 days</td>\n",
       "      <td>5.359245e+06</td>\n",
       "      <td>2315.004401</td>\n",
       "      <td>1670.510371</td>\n",
       "      <td>1.743993</td>\n",
       "      <td>0.915871</td>\n",
       "      <td>0.890061</td>\n",
       "      <td>0.0</td>\n",
       "    </tr>\n",
       "  </tbody>\n",
       "</table>\n",
       "</div>"
      ],
      "text/plain": [
       "   horizon           mse         rmse          mae      mape     mdape  \\\n",
       "0 365 days  5.359245e+06  2315.004401  1670.510371  1.743993  0.915871   \n",
       "\n",
       "      smape  coverage  \n",
       "0  0.890061       0.0  "
      ]
     },
     "execution_count": 25,
     "metadata": {},
     "output_type": "execute_result"
    }
   ],
   "source": [
    "from prophet.diagnostics import performance_metrics\n",
    "performance_metrics(cross_validated, rolling_window=1) # Same as above, all rows combined"
   ]
  },
  {
   "cell_type": "code",
   "execution_count": 31,
   "metadata": {},
   "outputs": [
    {
     "data": {
      "text/html": [
       "<div>\n",
       "<style scoped>\n",
       "    .dataframe tbody tr th:only-of-type {\n",
       "        vertical-align: middle;\n",
       "    }\n",
       "\n",
       "    .dataframe tbody tr th {\n",
       "        vertical-align: top;\n",
       "    }\n",
       "\n",
       "    .dataframe thead th {\n",
       "        text-align: right;\n",
       "    }\n",
       "</style>\n",
       "<table border=\"1\" class=\"dataframe\">\n",
       "  <thead>\n",
       "    <tr style=\"text-align: right;\">\n",
       "      <th></th>\n",
       "      <th>horizon</th>\n",
       "      <th>mse</th>\n",
       "      <th>rmse</th>\n",
       "      <th>mae</th>\n",
       "      <th>mape</th>\n",
       "      <th>mdape</th>\n",
       "      <th>smape</th>\n",
       "      <th>coverage</th>\n",
       "    </tr>\n",
       "  </thead>\n",
       "  <tbody>\n",
       "    <tr>\n",
       "      <th>0</th>\n",
       "      <td>181 days</td>\n",
       "      <td>6.597645e+06</td>\n",
       "      <td>2568.588038</td>\n",
       "      <td>1962.655619</td>\n",
       "      <td>2.163177</td>\n",
       "      <td>1.112384</td>\n",
       "      <td>0.992938</td>\n",
       "      <td>0.0</td>\n",
       "    </tr>\n",
       "    <tr>\n",
       "      <th>1</th>\n",
       "      <td>184 days</td>\n",
       "      <td>5.462148e+06</td>\n",
       "      <td>2337.123937</td>\n",
       "      <td>1721.356605</td>\n",
       "      <td>1.737402</td>\n",
       "      <td>1.050310</td>\n",
       "      <td>0.919689</td>\n",
       "      <td>0.0</td>\n",
       "    </tr>\n",
       "    <tr>\n",
       "      <th>2</th>\n",
       "      <td>212 days</td>\n",
       "      <td>5.586421e+06</td>\n",
       "      <td>2363.561048</td>\n",
       "      <td>1800.022414</td>\n",
       "      <td>1.834361</td>\n",
       "      <td>1.112384</td>\n",
       "      <td>0.964070</td>\n",
       "      <td>0.0</td>\n",
       "    </tr>\n",
       "    <tr>\n",
       "      <th>3</th>\n",
       "      <td>214 days</td>\n",
       "      <td>5.312512e+06</td>\n",
       "      <td>2304.888814</td>\n",
       "      <td>1712.656863</td>\n",
       "      <td>1.726302</td>\n",
       "      <td>1.057028</td>\n",
       "      <td>0.938429</td>\n",
       "      <td>0.0</td>\n",
       "    </tr>\n",
       "    <tr>\n",
       "      <th>4</th>\n",
       "      <td>242 days</td>\n",
       "      <td>5.392710e+06</td>\n",
       "      <td>2322.220883</td>\n",
       "      <td>1749.456766</td>\n",
       "      <td>1.765602</td>\n",
       "      <td>1.057028</td>\n",
       "      <td>0.949693</td>\n",
       "      <td>0.0</td>\n",
       "    </tr>\n",
       "    <tr>\n",
       "      <th>5</th>\n",
       "      <td>243 days</td>\n",
       "      <td>7.557435e+06</td>\n",
       "      <td>2749.078924</td>\n",
       "      <td>2100.049646</td>\n",
       "      <td>2.096026</td>\n",
       "      <td>1.112384</td>\n",
       "      <td>1.028935</td>\n",
       "      <td>0.0</td>\n",
       "    </tr>\n",
       "    <tr>\n",
       "      <th>6</th>\n",
       "      <td>245 days</td>\n",
       "      <td>6.274213e+06</td>\n",
       "      <td>2504.837887</td>\n",
       "      <td>1921.105238</td>\n",
       "      <td>1.732557</td>\n",
       "      <td>1.057028</td>\n",
       "      <td>1.027867</td>\n",
       "      <td>0.0</td>\n",
       "    </tr>\n",
       "    <tr>\n",
       "      <th>7</th>\n",
       "      <td>273 days</td>\n",
       "      <td>5.904210e+06</td>\n",
       "      <td>2429.857946</td>\n",
       "      <td>1772.141532</td>\n",
       "      <td>1.556013</td>\n",
       "      <td>1.050310</td>\n",
       "      <td>0.931543</td>\n",
       "      <td>0.0</td>\n",
       "    </tr>\n",
       "    <tr>\n",
       "      <th>8</th>\n",
       "      <td>275 days</td>\n",
       "      <td>5.597082e+06</td>\n",
       "      <td>2365.815300</td>\n",
       "      <td>1727.405440</td>\n",
       "      <td>1.522470</td>\n",
       "      <td>1.057028</td>\n",
       "      <td>0.920963</td>\n",
       "      <td>0.0</td>\n",
       "    </tr>\n",
       "    <tr>\n",
       "      <th>9</th>\n",
       "      <td>303 days</td>\n",
       "      <td>6.226765e+06</td>\n",
       "      <td>2495.348629</td>\n",
       "      <td>1854.235915</td>\n",
       "      <td>1.671872</td>\n",
       "      <td>1.057028</td>\n",
       "      <td>0.944103</td>\n",
       "      <td>0.0</td>\n",
       "    </tr>\n",
       "    <tr>\n",
       "      <th>10</th>\n",
       "      <td>304 days</td>\n",
       "      <td>6.224437e+06</td>\n",
       "      <td>2494.882090</td>\n",
       "      <td>1849.566039</td>\n",
       "      <td>1.669134</td>\n",
       "      <td>1.057028</td>\n",
       "      <td>0.941031</td>\n",
       "      <td>0.0</td>\n",
       "    </tr>\n",
       "    <tr>\n",
       "      <th>11</th>\n",
       "      <td>306 days</td>\n",
       "      <td>5.178568e+06</td>\n",
       "      <td>2275.646626</td>\n",
       "      <td>1645.526853</td>\n",
       "      <td>1.590604</td>\n",
       "      <td>1.050310</td>\n",
       "      <td>0.941461</td>\n",
       "      <td>0.0</td>\n",
       "    </tr>\n",
       "    <tr>\n",
       "      <th>12</th>\n",
       "      <td>334 days</td>\n",
       "      <td>5.284273e+06</td>\n",
       "      <td>2298.754706</td>\n",
       "      <td>1696.827983</td>\n",
       "      <td>1.637394</td>\n",
       "      <td>1.057028</td>\n",
       "      <td>0.882328</td>\n",
       "      <td>0.0</td>\n",
       "    </tr>\n",
       "    <tr>\n",
       "      <th>13</th>\n",
       "      <td>337 days</td>\n",
       "      <td>4.815910e+06</td>\n",
       "      <td>2194.518215</td>\n",
       "      <td>1543.954567</td>\n",
       "      <td>1.493349</td>\n",
       "      <td>0.869998</td>\n",
       "      <td>0.834373</td>\n",
       "      <td>0.0</td>\n",
       "    </tr>\n",
       "    <tr>\n",
       "      <th>14</th>\n",
       "      <td>365 days</td>\n",
       "      <td>4.430737e+06</td>\n",
       "      <td>2104.931520</td>\n",
       "      <td>1458.875122</td>\n",
       "      <td>1.410524</td>\n",
       "      <td>0.869998</td>\n",
       "      <td>0.819845</td>\n",
       "      <td>0.0</td>\n",
       "    </tr>\n",
       "  </tbody>\n",
       "</table>\n",
       "</div>"
      ],
      "text/plain": [
       "    horizon           mse         rmse          mae      mape     mdape  \\\n",
       "0  181 days  6.597645e+06  2568.588038  1962.655619  2.163177  1.112384   \n",
       "1  184 days  5.462148e+06  2337.123937  1721.356605  1.737402  1.050310   \n",
       "2  212 days  5.586421e+06  2363.561048  1800.022414  1.834361  1.112384   \n",
       "3  214 days  5.312512e+06  2304.888814  1712.656863  1.726302  1.057028   \n",
       "4  242 days  5.392710e+06  2322.220883  1749.456766  1.765602  1.057028   \n",
       "5  243 days  7.557435e+06  2749.078924  2100.049646  2.096026  1.112384   \n",
       "6  245 days  6.274213e+06  2504.837887  1921.105238  1.732557  1.057028   \n",
       "7  273 days  5.904210e+06  2429.857946  1772.141532  1.556013  1.050310   \n",
       "8  275 days  5.597082e+06  2365.815300  1727.405440  1.522470  1.057028   \n",
       "9  303 days  6.226765e+06  2495.348629  1854.235915  1.671872  1.057028   \n",
       "10 304 days  6.224437e+06  2494.882090  1849.566039  1.669134  1.057028   \n",
       "11 306 days  5.178568e+06  2275.646626  1645.526853  1.590604  1.050310   \n",
       "12 334 days  5.284273e+06  2298.754706  1696.827983  1.637394  1.057028   \n",
       "13 337 days  4.815910e+06  2194.518215  1543.954567  1.493349  0.869998   \n",
       "14 365 days  4.430737e+06  2104.931520  1458.875122  1.410524  0.869998   \n",
       "\n",
       "       smape  coverage  \n",
       "0   0.992938       0.0  \n",
       "1   0.919689       0.0  \n",
       "2   0.964070       0.0  \n",
       "3   0.938429       0.0  \n",
       "4   0.949693       0.0  \n",
       "5   1.028935       0.0  \n",
       "6   1.027867       0.0  \n",
       "7   0.931543       0.0  \n",
       "8   0.920963       0.0  \n",
       "9   0.944103       0.0  \n",
       "10  0.941031       0.0  \n",
       "11  0.941461       0.0  \n",
       "12  0.882328       0.0  \n",
       "13  0.834373       0.0  \n",
       "14  0.819845       0.0  "
      ]
     },
     "execution_count": 31,
     "metadata": {},
     "output_type": "execute_result"
    }
   ],
   "source": [
    "performance_metrics(cross_validated, rolling_window=0.5)"
   ]
  }
 ],
 "metadata": {
  "kernelspec": {
   "display_name": "base",
   "language": "python",
   "name": "python3"
  },
  "language_info": {
   "codemirror_mode": {
    "name": "ipython",
    "version": 3
   },
   "file_extension": ".py",
   "mimetype": "text/x-python",
   "name": "python",
   "nbconvert_exporter": "python",
   "pygments_lexer": "ipython3",
   "version": "3.11.5"
  }
 },
 "nbformat": 4,
 "nbformat_minor": 2
}
